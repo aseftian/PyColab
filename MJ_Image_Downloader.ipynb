{
  "nbformat": 4,
  "nbformat_minor": 0,
  "metadata": {
    "colab": {
      "provenance": [],
      "authorship_tag": "ABX9TyMbSeUpfWjLhz9hcCdd1oCe",
      "include_colab_link": true
    },
    "kernelspec": {
      "name": "python3",
      "display_name": "Python 3"
    },
    "language_info": {
      "name": "python"
    }
  },
  "cells": [
    {
      "cell_type": "markdown",
      "metadata": {
        "id": "view-in-github",
        "colab_type": "text"
      },
      "source": [
        "<a href=\"https://colab.research.google.com/github/aseftian/PyColab/blob/main/MJ_Image_Downloader.ipynb\" target=\"_parent\"><img src=\"https://colab.research.google.com/assets/colab-badge.svg\" alt=\"Open In Colab\"/></a>"
      ]
    },
    {
      "cell_type": "code",
      "execution_count": 2,
      "metadata": {
        "colab": {
          "base_uri": "https://localhost:8080/"
        },
        "collapsed": true,
        "id": "2i_PdJDldjSm",
        "outputId": "f74d9bce-1f9e-432b-ab1b-ebf27f893203"
      },
      "outputs": [
        {
          "output_type": "stream",
          "name": "stdout",
          "text": [
            "Requirement already satisfied: pillow in /usr/local/lib/python3.10/dist-packages (9.4.0)\n",
            "Requirement already satisfied: requests in /usr/local/lib/python3.10/dist-packages (2.31.0)\n",
            "Requirement already satisfied: python-dotenv in /usr/local/lib/python3.10/dist-packages (1.0.1)\n",
            "Requirement already satisfied: asyncio in /usr/local/lib/python3.10/dist-packages (3.4.3)\n",
            "Requirement already satisfied: charset-normalizer<4,>=2 in /usr/local/lib/python3.10/dist-packages (from requests) (3.3.2)\n",
            "Requirement already satisfied: idna<4,>=2.5 in /usr/local/lib/python3.10/dist-packages (from requests) (3.7)\n",
            "Requirement already satisfied: urllib3<3,>=1.21.1 in /usr/local/lib/python3.10/dist-packages (from requests) (2.0.7)\n",
            "Requirement already satisfied: certifi>=2017.4.17 in /usr/local/lib/python3.10/dist-packages (from requests) (2024.6.2)\n"
          ]
        }
      ],
      "source": [
        "pip install pillow requests python-dotenv asyncio"
      ]
    },
    {
      "cell_type": "code",
      "source": [
        "import pathlib\n",
        "import csv\n",
        "import textwrap\n",
        "from IPython.display import display, Markdown\n",
        "from PIL import Image\n",
        "from google.colab import drive\n",
        "from google.colab import files\n",
        "import os\n",
        "import functools\n",
        "import typing\n",
        "import asyncio\n",
        "import requests\n",
        "import time\n",
        "from os.path import basename\n",
        "\n",
        "# Function to convert text to markdown\n",
        "def to_markdown(text):\n",
        "    text = text.replace('•', '  *')\n",
        "    return Markdown(textwrap.indent(text, '> ', predicate=lambda _: True))\n",
        "\n",
        "# Mount Google Drive\n",
        "drive.mount('/content/drive')\n",
        "\n",
        "# Define image folder path\n",
        "image_folder_path = '/content/drive/MyDrive/0'\n",
        "\n",
        "save_as_format = 'PNG'\n",
        "optimize_image_size = True # fill with True or False\n",
        "\n",
        "input_list_image = pathlib.Path('/content/drive/MyDrive/0/list_url_image.txt')\n",
        "\n",
        "# Define output CSV path\n",
        "output_csv_path = pathlib.Path('/content/drive/MyDrive/0/image_metadata.csv')\n",
        "\n",
        "# fungsi untuk memisahkan image yang di download\n",
        "def split_image(image_file):\n",
        "    with Image.open(image_file) as im:\n",
        "        # Get the width and height of the original image\n",
        "        width, height = im.size\n",
        "        # Calculate the middle points along the horizontal and vertical axes\n",
        "        mid_x = width // 2\n",
        "        mid_y = height // 2\n",
        "        # Split image into four equal parts\n",
        "        top_left = im.crop((0, 0, mid_x, mid_y))\n",
        "        top_right = im.crop((mid_x, 0, width, mid_y))\n",
        "        bottom_left = im.crop((0, mid_y, mid_x, height))\n",
        "        bottom_right = im.crop((mid_x, mid_y, width, height))\n",
        "\n",
        "        return top_left, top_right, bottom_left, bottom_right\n",
        "\n",
        "def download_image(url):\n",
        "    response = requests.get(url)\n",
        "    if response.status_code == 200:\n",
        "\n",
        "        # Define the input and output folder path\n",
        "        input_folder = f\"{image_folder_path}/input\"\n",
        "        output_folder = f\"{image_folder_path}/output\"\n",
        "\n",
        "        # Check if the output folder exists, and create it if necessary\n",
        "        if not os.path.exists(output_folder):\n",
        "            os.makedirs(output_folder)\n",
        "\n",
        "        # Check if the input folder exists, and create it if necessary\n",
        "        if not os.path.exists(input_folder):\n",
        "            os.makedirs(input_folder)\n",
        "\n",
        "        arq_name = basename(response.url)\n",
        "        filename, tsh = arq_name.split(\"?\", 1)\n",
        "\n",
        "        with open(f\"{input_folder}/{filename}\", \"wb\") as f:\n",
        "            f.write(response.content)\n",
        "        f.close()\n",
        "\n",
        "        input_file = os.path.join(input_folder, filename)\n",
        "\n",
        "        file_basename = os.path.splitext(filename)[0]\n",
        "        top_left, top_right, bottom_left, bottom_right = split_image(input_file)\n",
        "\n",
        "\n",
        "        if save_as_format in ('JPG','JPEG'):\n",
        "            file_ext = '.jpg'\n",
        "            top_left.save(os.path.join(output_folder, f\"{file_basename}_1_top_left{file_ext}\"), \"JPEG\", optimize=optimize_image_size, quality=100)\n",
        "            top_right.save(os.path.join(output_folder, f\"{file_basename}_2_top_right{file_ext}\"), \"JPEG\", optimize=optimize_image_size, quality=100)\n",
        "            bottom_left.save(os.path.join(output_folder, f\"{file_basename}_3_bottom_left{file_ext}\"), \"JPEG\", optimize=optimize_image_size, quality=100)\n",
        "            bottom_right.save(os.path.join(output_folder, f\"{file_basename}_4_bottom_right{file_ext}\"), \"JPEG\", optimize=optimize_image_size, quality=100)\n",
        "        else:\n",
        "            file_ext = '.png'\n",
        "            top_left.save(os.path.join(output_folder, f\"{file_basename}_1_top_left{file_ext}\"))\n",
        "            top_right.save(os.path.join(output_folder, f\"{file_basename}_2_top_right{file_ext}\"))\n",
        "            bottom_left.save(os.path.join(output_folder, f\"{file_basename}_3_bottom_left{file_ext}\"))\n",
        "            bottom_right.save(os.path.join(output_folder, f\"{file_basename}_4_bottom_right{file_ext}\"))\n",
        "        display(to_markdown(f\"**URL:**{url}\\n\\n**Filename:** {filename}\"))\n",
        "\n",
        "\n",
        "        # Delete the input file\n",
        "        os.remove(f\"{input_folder}/{filename}\")\n",
        "\n",
        "\n",
        "with open(input_list_image, 'r') as limgurl:\n",
        "      imgurls = limgurl.readlines()\n",
        "      for imgurl in imgurls:\n",
        "        download_image(imgurl)\n"
      ],
      "metadata": {
        "colab": {
          "base_uri": "https://localhost:8080/",
          "height": 497
        },
        "id": "mSMUiWOXdls8",
        "outputId": "f0aa398a-6a89-46ee-9a2f-a474c78180e6"
      },
      "execution_count": 10,
      "outputs": [
        {
          "output_type": "stream",
          "name": "stdout",
          "text": [
            "Drive already mounted at /content/drive; to attempt to forcibly remount, call drive.mount(\"/content/drive\", force_remount=True).\n"
          ]
        },
        {
          "output_type": "display_data",
          "data": {
            "text/plain": [
              "<IPython.core.display.Markdown object>"
            ],
            "text/markdown": "> **URL:**https://cdn.discordapp.com/attachments/1252101885960261632/1252102194317230202/middlejoy_deep_crimson_red_background_with_a_smooth_velvety_tex_c69aeffa-d7cd-40fa-8fd9-5667b0c3bb3c.png?ex=668d56ca&is=668c054a&hm=0473412ed566874797c40b0f908a6f86f76800ace45a67df71ad2a4d85b233b4&\n> \n> \n> **Filename:** middlejoy_deep_crimson_red_background_with_a_smooth_velvety_tex_c69aeffa-d7cd-40fa-8fd9-5667b0c3bb3c.png"
          },
          "metadata": {}
        },
        {
          "output_type": "display_data",
          "data": {
            "text/plain": [
              "<IPython.core.display.Markdown object>"
            ],
            "text/markdown": "> **URL:**https://cdn.discordapp.com/attachments/1252101885960261632/1252102221240209440/middlejoy_bright_scarlet_red_background_with_dynamic_swirling_p_62d9775e-669c-4fba-8122-84f1b0f3280c.png?ex=668d56d0&is=668c0550&hm=9edb75d82f7c1d724e331c9d0c8cc2e5b48a4dd44b05639f662ff11ed1f8eb17&\n> \n> \n> **Filename:** middlejoy_bright_scarlet_red_background_with_dynamic_swirling_p_62d9775e-669c-4fba-8122-84f1b0f3280c.png"
          },
          "metadata": {}
        },
        {
          "output_type": "display_data",
          "data": {
            "text/plain": [
              "<IPython.core.display.Markdown object>"
            ],
            "text/markdown": "> **URL:**https://cdn.discordapp.com/attachments/1252101885960261632/1252102240676614226/middlejoy_dark_burgundy_red_background_with_a_matte_finish_eleg_017f968b-2de1-4553-a780-aae12d93924d.png?ex=668d56d5&is=668c0555&hm=7dcb70c8b911ca113ab3b36b1aead8527030447974aab484130230c451e3fd44&\n> \n> \n> **Filename:** middlejoy_dark_burgundy_red_background_with_a_matte_finish_eleg_017f968b-2de1-4553-a780-aae12d93924d.png"
          },
          "metadata": {}
        },
        {
          "output_type": "display_data",
          "data": {
            "text/plain": [
              "<IPython.core.display.Markdown object>"
            ],
            "text/markdown": "> **URL:**https://cdn.discordapp.com/attachments/1252101885960261632/1252102601797931008/middlejoy_vivid_cherry_red_background_with_a_glossy_reflective__a2f3e48f-43b2-4178-a28d-0d9799064229.png?ex=668d572b&is=668c05ab&hm=5a47a91253a6a7d77608721d29cbced944e7e1883ca12cc9de6b4c3bed2e0a11&\n> \n> \n> **Filename:** middlejoy_vivid_cherry_red_background_with_a_glossy_reflective__a2f3e48f-43b2-4178-a28d-0d9799064229.png"
          },
          "metadata": {}
        },
        {
          "output_type": "display_data",
          "data": {
            "text/plain": [
              "<IPython.core.display.Markdown object>"
            ],
            "text/markdown": "> **URL:**https://cdn.discordapp.com/attachments/1252101885960261632/1252102736976023633/middlejoy_bright_candy_apple_red_background_with_a_high_gloss_f_e8d09f08-6d88-47b7-b0cd-f99e1bcfb138.png?ex=668d574b&is=668c05cb&hm=e511459af7805c72a2bb4de24c492c1cee4d0ad0b9c25fff193d632d40eb75c4&\n> \n> **Filename:** middlejoy_bright_candy_apple_red_background_with_a_high_gloss_f_e8d09f08-6d88-47b7-b0cd-f99e1bcfb138.png"
          },
          "metadata": {}
        }
      ]
    }
  ]
}