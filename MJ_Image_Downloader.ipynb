{
  "nbformat": 4,
  "nbformat_minor": 0,
  "metadata": {
    "colab": {
      "provenance": [],
      "authorship_tag": "ABX9TyMbSeUpfWjLhz9hcCdd1oCe",
      "include_colab_link": true
    },
    "kernelspec": {
      "name": "python3",
      "display_name": "Python 3"
    },
    "language_info": {
      "name": "python"
    }
  },
  "cells": [
    {
      "cell_type": "markdown",
      "metadata": {
        "id": "view-in-github",
        "colab_type": "text"
      },
      "source": [
        "<a href=\"https://colab.research.google.com/github/aseftian/PyColab/blob/main/MJ_Image_Downloader.ipynb\" target=\"_parent\"><img src=\"https://colab.research.google.com/assets/colab-badge.svg\" alt=\"Open In Colab\"/></a>"
      ]
    },
    {
      "cell_type": "code",
      "execution_count": null,
      "metadata": {
        "collapsed": true,
        "id": "2i_PdJDldjSm"
      },
      "outputs": [],
      "source": [
        "pip install pillow requests python-dotenv asyncio"
      ]
    },
    {
      "cell_type": "code",
      "source": [
        "import pathlib\n",
        "import csv\n",
        "import textwrap\n",
        "from IPython.display import display, Markdown\n",
        "from PIL import Image\n",
        "from google.colab import drive\n",
        "from google.colab import files\n",
        "import os\n",
        "import functools\n",
        "import typing\n",
        "import asyncio\n",
        "import requests\n",
        "import time\n",
        "from os.path import basename\n",
        "\n",
        "# Function to convert text to markdown\n",
        "def to_markdown(text):\n",
        "    text = text.replace('•', '  *')\n",
        "    return Markdown(textwrap.indent(text, '> ', predicate=lambda _: True))\n",
        "\n",
        "# Mount Google Drive\n",
        "drive.mount('/content/drive')\n",
        "\n",
        "# Define image folder path\n",
        "image_folder_path = '/content/drive/MyDrive/0'\n",
        "\n",
        "save_as_format = 'PNG'\n",
        "optimize_image_size = True # fill with True or False\n",
        "\n",
        "input_list_image = pathlib.Path('/content/drive/MyDrive/0/list_url_image.txt')\n",
        "\n",
        "# Define output CSV path\n",
        "output_csv_path = pathlib.Path('/content/drive/MyDrive/0/image_metadata.csv')\n",
        "\n",
        "# fungsi untuk memisahkan image yang di download\n",
        "def split_image(image_file):\n",
        "    with Image.open(image_file) as im:\n",
        "        # Get the width and height of the original image\n",
        "        width, height = im.size\n",
        "        # Calculate the middle points along the horizontal and vertical axes\n",
        "        mid_x = width // 2\n",
        "        mid_y = height // 2\n",
        "        # Split image into four equal parts\n",
        "        top_left = im.crop((0, 0, mid_x, mid_y))\n",
        "        top_right = im.crop((mid_x, 0, width, mid_y))\n",
        "        bottom_left = im.crop((0, mid_y, mid_x, height))\n",
        "        bottom_right = im.crop((mid_x, mid_y, width, height))\n",
        "\n",
        "        return top_left, top_right, bottom_left, bottom_right\n",
        "\n",
        "def download_image(url):\n",
        "    response = requests.get(url)\n",
        "    if response.status_code == 200:\n",
        "\n",
        "        # Define the input and output folder path\n",
        "        input_folder = f\"{image_folder_path}/input\"\n",
        "        output_folder = f\"{image_folder_path}/output\"\n",
        "\n",
        "        # Check if the output folder exists, and create it if necessary\n",
        "        if not os.path.exists(output_folder):\n",
        "            os.makedirs(output_folder)\n",
        "\n",
        "        # Check if the input folder exists, and create it if necessary\n",
        "        if not os.path.exists(input_folder):\n",
        "            os.makedirs(input_folder)\n",
        "\n",
        "        arq_name = basename(response.url)\n",
        "        filename, tsh = arq_name.split(\"?\", 1)\n",
        "\n",
        "        with open(f\"{input_folder}/{filename}\", \"wb\") as f:\n",
        "            f.write(response.content)\n",
        "        f.close()\n",
        "\n",
        "        input_file = os.path.join(input_folder, filename)\n",
        "\n",
        "        file_basename = os.path.splitext(filename)[0]\n",
        "        top_left, top_right, bottom_left, bottom_right = split_image(input_file)\n",
        "\n",
        "\n",
        "        if save_as_format in ('JPG','JPEG'):\n",
        "            file_ext = '.jpg'\n",
        "            top_left.save(os.path.join(output_folder, f\"{file_basename}_1_top_left{file_ext}\"), \"JPEG\", optimize=optimize_image_size, quality=100)\n",
        "            top_right.save(os.path.join(output_folder, f\"{file_basename}_2_top_right{file_ext}\"), \"JPEG\", optimize=optimize_image_size, quality=100)\n",
        "            bottom_left.save(os.path.join(output_folder, f\"{file_basename}_3_bottom_left{file_ext}\"), \"JPEG\", optimize=optimize_image_size, quality=100)\n",
        "            bottom_right.save(os.path.join(output_folder, f\"{file_basename}_4_bottom_right{file_ext}\"), \"JPEG\", optimize=optimize_image_size, quality=100)\n",
        "        else:\n",
        "            file_ext = '.png'\n",
        "            top_left.save(os.path.join(output_folder, f\"{file_basename}_1_top_left{file_ext}\"))\n",
        "            top_right.save(os.path.join(output_folder, f\"{file_basename}_2_top_right{file_ext}\"))\n",
        "            bottom_left.save(os.path.join(output_folder, f\"{file_basename}_3_bottom_left{file_ext}\"))\n",
        "            bottom_right.save(os.path.join(output_folder, f\"{file_basename}_4_bottom_right{file_ext}\"))\n",
        "        display(to_markdown(f\"**URL:**{url}\\n\\n**Filename:** {filename}\"))\n",
        "\n",
        "\n",
        "        # Delete the input file\n",
        "        os.remove(f\"{input_folder}/{filename}\")\n",
        "\n",
        "\n",
        "with open(input_list_image, 'r') as limgurl:\n",
        "      imgurls = limgurl.readlines()\n",
        "      for imgurl in imgurls:\n",
        "        download_image(imgurl)\n"
      ],
      "metadata": {
        "id": "mSMUiWOXdls8"
      },
      "execution_count": null,
      "outputs": []
    }
  ]
}