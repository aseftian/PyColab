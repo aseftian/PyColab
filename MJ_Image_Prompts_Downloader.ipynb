{
  "nbformat": 4,
  "nbformat_minor": 0,
  "metadata": {
    "colab": {
      "provenance": [],
      "authorship_tag": "ABX9TyMoriZqTwGqw430GKsEiLFE",
      "include_colab_link": true
    },
    "kernelspec": {
      "name": "python3",
      "display_name": "Python 3"
    },
    "language_info": {
      "name": "python"
    }
  },
  "cells": [
    {
      "cell_type": "markdown",
      "metadata": {
        "id": "view-in-github",
        "colab_type": "text"
      },
      "source": [
        "<a href=\"https://colab.research.google.com/github/aseftian/PyColab/blob/main/MJ_Image_Prompts_Downloader.ipynb\" target=\"_parent\"><img src=\"https://colab.research.google.com/assets/colab-badge.svg\" alt=\"Open In Colab\"/></a>"
      ]
    },
    {
      "cell_type": "markdown",
      "source": [
        "### Install **Dependencies**"
      ],
      "metadata": {
        "id": "UfOIG1KsOKEJ"
      }
    },
    {
      "cell_type": "code",
      "execution_count": null,
      "metadata": {
        "id": "HjzGZakELFht"
      },
      "outputs": [],
      "source": [
        "pip install gspread pandas pillow requests"
      ]
    },
    {
      "cell_type": "markdown",
      "source": [
        "# Run Downloader"
      ],
      "metadata": {
        "id": "6_9PS7wxNnm2"
      }
    },
    {
      "cell_type": "code",
      "source": [
        "import gspread\n",
        "import pandas as pd\n",
        "import textwrap\n",
        "from IPython.display import display, Markdown\n",
        "from PIL import Image\n",
        "from google.colab import drive\n",
        "from google.colab import files\n",
        "import os\n",
        "import requests\n",
        "from os.path import basename\n",
        "\n",
        "# required packages and initial settings for reading a google sheet data from python in google colab\n",
        "from google.colab import auth\n",
        "auth.authenticate_user()\n",
        "from google.auth import default\n",
        "creds, _ = default()\n",
        "\n",
        "gc = gspread.authorize(creds)\n",
        "\n",
        "# Function to convert text to markdown\n",
        "def to_markdown(text):\n",
        "    text = text.replace('•', '  *')\n",
        "    return Markdown(textwrap.indent(text, '> ', predicate=lambda _: True))\n",
        "\n",
        "# Mount Google Drive\n",
        "drive.mount('/content/drive')\n",
        "\n",
        "# Define image folder path\n",
        "image_folder_path = '/content/drive/MyDrive/0'\n",
        "\n",
        "save_as_format = 'PNG' # isi dengan JPG/PNG sesuai dengan format file akhir yang diinginkan\n",
        "optimize_image_size = True # fill with True or False\n",
        "\n",
        "# fungsi untuk memisahkan image yang di download\n",
        "def split_image(image_file):\n",
        "    with Image.open(image_file) as im:\n",
        "        # Get the width and height of the original image\n",
        "        width, height = im.size\n",
        "        # Calculate the middle points along the horizontal and vertical axes\n",
        "        mid_x = width // 2\n",
        "        mid_y = height // 2\n",
        "        # Split image into four equal parts\n",
        "        top_left = im.crop((0, 0, mid_x, mid_y))\n",
        "        top_right = im.crop((mid_x, 0, width, mid_y))\n",
        "        bottom_left = im.crop((0, mid_y, mid_x, height))\n",
        "        bottom_right = im.crop((mid_x, mid_y, width, height))\n",
        "\n",
        "        return top_left, top_right, bottom_left, bottom_right\n",
        "\n",
        "def download_image(url):\n",
        "    try:\n",
        "        response = requests.get(url)\n",
        "        if response.status_code == 200:\n",
        "\n",
        "            # Define the input and output folder path\n",
        "            input_folder = f\"{image_folder_path}/input\"\n",
        "            output_folder = f\"{image_folder_path}/output\"\n",
        "\n",
        "            # Check if the output folder exists, and create it if necessary\n",
        "            if not os.path.exists(output_folder):\n",
        "                os.makedirs(output_folder)\n",
        "\n",
        "            # Check if the input folder exists, and create it if necessary\n",
        "            if not os.path.exists(input_folder):\n",
        "                os.makedirs(input_folder)\n",
        "\n",
        "            arq_name = basename(response.url)\n",
        "            filename, tsh = arq_name.split(\"?\", 1)\n",
        "\n",
        "            with open(f\"{input_folder}/{filename}\", \"wb\") as f:\n",
        "                f.write(response.content)\n",
        "\n",
        "            input_file = os.path.join(input_folder, filename)\n",
        "\n",
        "            file_basename = os.path.splitext(filename)[0]\n",
        "            top_left, top_right, bottom_left, bottom_right = split_image(input_file)\n",
        "\n",
        "            if save_as_format in ('JPG','JPEG'):\n",
        "                file_ext = '.jpg'\n",
        "                top_left.save(os.path.join(output_folder, f\"{file_basename}_1_top_left{file_ext}\"), \"JPEG\", optimize=optimize_image_size, quality=100)\n",
        "                top_right.save(os.path.join(output_folder, f\"{file_basename}_2_top_right{file_ext}\"), \"JPEG\", optimize=optimize_image_size, quality=100)\n",
        "                bottom_left.save(os.path.join(output_folder, f\"{file_basename}_3_bottom_left{file_ext}\"), \"JPEG\", optimize=optimize_image_size, quality=100)\n",
        "                bottom_right.save(os.path.join(output_folder, f\"{file_basename}_4_bottom_right{file_ext}\"), \"JPEG\", optimize=optimize_image_size, quality=100)\n",
        "            else:\n",
        "                file_ext = '.png'\n",
        "                top_left.save(os.path.join(output_folder, f\"{file_basename}_1_top_left{file_ext}\"))\n",
        "                top_right.save(os.path.join(output_folder, f\"{file_basename}_2_top_right{file_ext}\"))\n",
        "                bottom_left.save(os.path.join(output_folder, f\"{file_basename}_3_bottom_left{file_ext}\"))\n",
        "                bottom_right.save(os.path.join(output_folder, f\"{file_basename}_4_bottom_right{file_ext}\"))\n",
        "            display(to_markdown(f\"**URL:**{url}\\n\\n**Filename:** {filename}\"))\n",
        "\n",
        "            # Delete the input file\n",
        "            os.remove(f\"{input_folder}/{filename}\")\n",
        "            return 'SUCCESS'\n",
        "        else:\n",
        "            print(f'HTTP Error: {response.status_code}')\n",
        "            return f'ERROR HTTP Response Code: {response.status_code}'\n",
        "    except:\n",
        "        return 'ERROR Something'\n",
        "\n",
        "# Open Google Sheet\n",
        "sh = gc.open('MJ_Image_Prompts')\n",
        "worksheet = sh.worksheet('Prompts')\n",
        "# Set DataFrame\n",
        "df = pd.DataFrame(worksheet.get_all_records())\n",
        "xdf = df.query('Image_Link != \"\" and Status != \"SUCCESS\"', inplace=False)\n",
        "\n",
        "for index, row in xdf.iterrows():\n",
        "    status = download_image(row['Image_Link'])\n",
        "    df.at[index, 'Status'] = status\n",
        "    if status == 'SUCCESS':\n",
        "        df.at[index, 'Saved_To'] = 'GDRIVE'\n",
        "\n",
        "worksheet.update([df.columns.values.tolist()] + df.values.tolist())\n",
        "\n",
        "\n"
      ],
      "metadata": {
        "collapsed": true,
        "id": "1-9bRbdDOIlE"
      },
      "execution_count": null,
      "outputs": []
    }
  ]
}